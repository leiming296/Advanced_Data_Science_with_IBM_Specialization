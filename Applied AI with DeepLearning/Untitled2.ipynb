{
 "cells": [
  {
   "cell_type": "code",
   "execution_count": 1,
   "metadata": {},
   "outputs": [],
   "source": [
    "import torch\n",
    "import torch.autograd as autograd\n",
    "import torch.nn as nn\n",
    "import torch.optim as optim"
   ]
  },
  {
   "cell_type": "code",
   "execution_count": 2,
   "metadata": {},
   "outputs": [
    {
     "name": "stdout",
     "output_type": "stream",
     "text": [
      "<class 'list'>\n",
      "tensor([1., 2., 3.])\n"
     ]
    }
   ],
   "source": [
    "v = [1,2,3]\n",
    "print(type(v))\n",
    "v_tensor = torch.Tensor(v)\n",
    "print(v_tensor)"
   ]
  },
  {
   "cell_type": "code",
   "execution_count": 3,
   "metadata": {},
   "outputs": [
    {
     "name": "stdout",
     "output_type": "stream",
     "text": [
      "tensor([[1., 2., 3.],\n",
      "        [4., 5., 6.]])\n"
     ]
    }
   ],
   "source": [
    "m23 = [[1,2,3],[4,5,6]]\n",
    "m23tensor = torch.Tensor(m23)\n",
    "print(m23tensor)"
   ]
  },
  {
   "cell_type": "code",
   "execution_count": 4,
   "metadata": {},
   "outputs": [
    {
     "name": "stdout",
     "output_type": "stream",
     "text": [
      "tensor([[[ 1.,  2.,  3.],\n",
      "         [ 4.,  5.,  6.],\n",
      "         [ 7.,  8.,  9.]],\n",
      "\n",
      "        [[10., 11., 12.],\n",
      "         [13., 14., 15.],\n",
      "         [16., 17., 18.]],\n",
      "\n",
      "        [[19., 20., 21.],\n",
      "         [22., 23., 24.],\n",
      "         [25., 26., 27.]]])\n"
     ]
    }
   ],
   "source": [
    "m3x3x3 = [[[1, 2, 3], [4, 5, 6], [7, 8, 9]],\n",
    "          [[10, 11, 12],[13, 14, 15], [16, 17, 18]],\n",
    "            [[19, 20, 21],[22, 23, 24], [25, 26, 27]]]\n",
    "m3x3x3_tensor = torch.Tensor(m3x3x3)\n",
    "print(m3x3x3_tensor)"
   ]
  },
  {
   "cell_type": "code",
   "execution_count": 6,
   "metadata": {},
   "outputs": [
    {
     "name": "stdout",
     "output_type": "stream",
     "text": [
      "tensor([[[[ 7.5108e-01, -7.8931e-01,  1.2143e-01],\n",
      "          [ 1.1423e+00, -6.5110e-01, -1.1447e+00],\n",
      "          [ 1.4818e-01,  1.2126e-01,  1.7980e-01]],\n",
      "\n",
      "         [[-2.6266e-01,  7.6799e-01,  2.6699e-01],\n",
      "          [ 1.5497e-01,  2.4484e-01, -1.7217e+00],\n",
      "          [-2.0127e-03,  2.7179e-01,  8.3419e-01]],\n",
      "\n",
      "         [[ 8.2753e-01,  1.3777e+00, -5.6957e-01],\n",
      "          [-5.9316e-02,  1.3229e-01,  5.0006e-01],\n",
      "          [ 1.4417e+00,  5.7883e-01, -1.0466e+00]]],\n",
      "\n",
      "\n",
      "        [[[ 7.4622e-03, -2.7361e-02,  1.9816e-01],\n",
      "          [-1.9891e-01, -1.3047e-01, -1.4295e+00],\n",
      "          [ 5.6228e-01, -5.5411e-01, -2.3848e-01]],\n",
      "\n",
      "         [[ 5.4759e-02,  1.0242e+00,  5.5690e-01],\n",
      "          [ 2.3264e-01, -4.9060e-01, -2.1514e-01],\n",
      "          [-5.9539e-01,  1.1996e+00, -3.5652e-01]],\n",
      "\n",
      "         [[ 1.0944e+00, -3.4007e-01,  2.3784e+00],\n",
      "          [ 8.7120e-01,  3.2855e-01,  1.0011e+00],\n",
      "          [ 7.1025e-01, -5.0203e-01,  1.1738e+00]]],\n",
      "\n",
      "\n",
      "        [[[ 8.0532e-02,  7.6014e-01,  3.6273e-01],\n",
      "          [ 1.4270e+00,  5.8175e-01, -1.9069e+00],\n",
      "          [-3.8044e-01, -5.6013e-01,  4.1816e-01]],\n",
      "\n",
      "         [[-2.8323e+00, -8.4802e-02, -5.9322e-01],\n",
      "          [-1.0931e+00, -8.9607e-01,  1.4734e+00],\n",
      "          [ 6.9824e-01, -7.5807e-01, -2.0032e-01]],\n",
      "\n",
      "         [[-5.9948e-01, -9.1872e-03,  2.7779e-01],\n",
      "          [ 2.9988e-01, -5.9576e-01,  7.2121e-02],\n",
      "          [-8.2107e-01, -9.7427e-01,  7.4841e-02]]],\n",
      "\n",
      "\n",
      "        [[[ 9.0406e-01,  7.4147e-01, -3.8892e-02],\n",
      "          [-2.6901e-01,  1.0108e+00, -5.5652e-01],\n",
      "          [ 1.7695e+00,  1.2474e-01,  7.2390e-01]],\n",
      "\n",
      "         [[ 2.4372e+00, -1.6285e+00,  1.5292e-01],\n",
      "          [ 1.4043e+00, -1.8398e-01, -4.0046e-01],\n",
      "          [ 6.6831e-01, -1.9512e+00, -7.0983e-01]],\n",
      "\n",
      "         [[-6.3190e-01,  1.8406e+00, -1.1398e+00],\n",
      "          [ 1.2814e+00, -1.0971e+00,  8.4317e-01],\n",
      "          [ 7.5693e-01,  7.5285e-01, -2.9441e-01]]]])\n"
     ]
    }
   ],
   "source": [
    "m4x3x3x3_tensor = torch.randn((4, 3, 3, 3))\n",
    "m4x3x3x3_tensor.shape\n",
    "print(m4x3x3x3_tensor)"
   ]
  },
  {
   "cell_type": "code",
   "execution_count": 7,
   "metadata": {},
   "outputs": [
    {
     "name": "stdout",
     "output_type": "stream",
     "text": [
      "tensor([1., 2., 3.])\n",
      "tensor([4., 5., 6.])\n"
     ]
    }
   ],
   "source": [
    "x = torch.Tensor([1,2,3])\n",
    "y = torch.Tensor([4,5,6])\n",
    "print(x)\n",
    "print(y)"
   ]
  },
  {
   "cell_type": "code",
   "execution_count": 8,
   "metadata": {},
   "outputs": [
    {
     "name": "stdout",
     "output_type": "stream",
     "text": [
      "tensor(32.)\n"
     ]
    }
   ],
   "source": [
    "w = torch.matmul(x,y)\n",
    "print(w)"
   ]
  },
  {
   "cell_type": "code",
   "execution_count": 9,
   "metadata": {},
   "outputs": [
    {
     "name": "stdout",
     "output_type": "stream",
     "text": [
      "tensor([[-0.3410, -0.3857, -0.2048, -0.5992, -0.1972],\n",
      "        [ 1.5291,  0.3651, -1.3025,  0.0493,  0.0080]])\n"
     ]
    }
   ],
   "source": [
    "x_1 = torch.randn(2,5)\n",
    "print(x_1)"
   ]
  },
  {
   "cell_type": "code",
   "execution_count": 10,
   "metadata": {},
   "outputs": [
    {
     "name": "stdout",
     "output_type": "stream",
     "text": [
      "tensor([[ 0.1229, -0.3256,  0.7657,  0.4561,  2.0987],\n",
      "        [ 0.3647, -0.4510, -2.2366, -1.3771,  0.1332],\n",
      "        [ 1.3881, -1.5048, -0.0782, -0.9958,  0.0076]])\n"
     ]
    }
   ],
   "source": [
    "y_1 = torch.randn(3,5)\n",
    "print(y_1)"
   ]
  },
  {
   "cell_type": "code",
   "execution_count": 11,
   "metadata": {},
   "outputs": [
    {
     "name": "stdout",
     "output_type": "stream",
     "text": [
      "tensor([[-0.3410, -0.3857, -0.2048, -0.5992, -0.1972],\n",
      "        [ 1.5291,  0.3651, -1.3025,  0.0493,  0.0080],\n",
      "        [ 0.1229, -0.3256,  0.7657,  0.4561,  2.0987],\n",
      "        [ 0.3647, -0.4510, -2.2366, -1.3771,  0.1332],\n",
      "        [ 1.3881, -1.5048, -0.0782, -0.9958,  0.0076]])\n"
     ]
    }
   ],
   "source": [
    "z_1 = torch.cat([x_1, y_1])\n",
    "print(z_1)"
   ]
  },
  {
   "cell_type": "code",
   "execution_count": 14,
   "metadata": {},
   "outputs": [
    {
     "name": "stdout",
     "output_type": "stream",
     "text": [
      "tensor([[ 0.3183, -0.8033,  0.5093],\n",
      "        [-1.3512,  0.5032, -0.4501]])\n",
      "tensor([[-1.4570,  0.2930,  0.2768,  0.7751, -0.2414],\n",
      "        [ 1.2003, -0.4128,  0.7608, -0.8718, -0.5258]])\n"
     ]
    }
   ],
   "source": [
    "# Concatenate columns:\n",
    "x_2 = torch.randn(2, 3)\n",
    "print(x_2)\n",
    "y_2 = torch.randn(2, 5)\n",
    "print(y_2)"
   ]
  },
  {
   "cell_type": "code",
   "execution_count": 15,
   "metadata": {},
   "outputs": [
    {
     "name": "stdout",
     "output_type": "stream",
     "text": [
      "tensor([[ 0.3183, -0.8033,  0.5093, -1.4570,  0.2930,  0.2768,  0.7751, -0.2414],\n",
      "        [-1.3512,  0.5032, -0.4501,  1.2003, -0.4128,  0.7608, -0.8718, -0.5258]])\n"
     ]
    }
   ],
   "source": [
    "# second arg specifies which axis to concat along. Here we select 1 (columns). It's attaching the columns.\n",
    "z_2 = torch.cat([x_2, y_2], 1)\n",
    "print(z_2)"
   ]
  },
  {
   "cell_type": "code",
   "execution_count": 16,
   "metadata": {},
   "outputs": [
    {
     "name": "stdout",
     "output_type": "stream",
     "text": [
      "torch.Size([32, 2000, 3, 28, 28])\n"
     ]
    }
   ],
   "source": [
    "x = torch.randn(64000, 3, 28, 28)\n",
    "x_reshape = x.view(32, -1, 3, 28, 28)\n",
    "print(x_reshape.shape)"
   ]
  },
  {
   "cell_type": "code",
   "execution_count": 17,
   "metadata": {},
   "outputs": [
    {
     "name": "stdout",
     "output_type": "stream",
     "text": [
      "tensor([1., 2., 3.])\n"
     ]
    }
   ],
   "source": [
    "x = autograd.Variable(torch.Tensor([1,2,3]), requires_grad = True)\n",
    "print(x.data)"
   ]
  },
  {
   "cell_type": "code",
   "execution_count": 18,
   "metadata": {},
   "outputs": [
    {
     "name": "stdout",
     "output_type": "stream",
     "text": [
      "tensor([5., 7., 9.])\n"
     ]
    }
   ],
   "source": [
    "y = autograd.Variable(torch.Tensor([4, 5, 6]), requires_grad=True)\n",
    "\n",
    "# With autograd.Variable you can also perform all the same operations you did with tensors\n",
    "z = x + y\n",
    "print(z.data)"
   ]
  },
  {
   "cell_type": "code",
   "execution_count": 19,
   "metadata": {},
   "outputs": [
    {
     "name": "stdout",
     "output_type": "stream",
     "text": [
      "<AddBackward0 object at 0x000002288E2DA518>\n"
     ]
    }
   ],
   "source": [
    "#  w knows also that it's result of addition of z lements (AddBackward)\n",
    "operation = z.grad_fn\n",
    "print(operation)"
   ]
  },
  {
   "cell_type": "code",
   "execution_count": 20,
   "metadata": {},
   "outputs": [
    {
     "name": "stdout",
     "output_type": "stream",
     "text": [
      "tensor(21., grad_fn=<SumBackward0>)\n",
      "<SumBackward0 object at 0x00000228859E6160>\n"
     ]
    }
   ],
   "source": [
    "# Lets sum up all the entries in z\n",
    "s = z.sum()\n",
    "print(s)\n",
    "print(s.grad_fn)"
   ]
  },
  {
   "cell_type": "code",
   "execution_count": 21,
   "metadata": {},
   "outputs": [],
   "source": [
    "s.backward(retain_graph=True)\n"
   ]
  },
  {
   "cell_type": "code",
   "execution_count": 22,
   "metadata": {},
   "outputs": [
    {
     "name": "stdout",
     "output_type": "stream",
     "text": [
      "tensor([1., 2., 3.], requires_grad=True)\n",
      "tensor([1., 1., 1.])\n"
     ]
    }
   ],
   "source": [
    "print(x)\n",
    "print(x.grad)"
   ]
  },
  {
   "cell_type": "code",
   "execution_count": 23,
   "metadata": {},
   "outputs": [
    {
     "name": "stdout",
     "output_type": "stream",
     "text": [
      "tensor([4., 5., 6.], requires_grad=True)\n",
      "tensor([1., 1., 1.])\n"
     ]
    }
   ],
   "source": [
    "print(y)\n",
    "print(y.grad)"
   ]
  },
  {
   "cell_type": "code",
   "execution_count": 25,
   "metadata": {},
   "outputs": [
    {
     "data": {
      "text/plain": [
       "torch.Size([4, 4, 4])"
      ]
     },
     "execution_count": 25,
     "metadata": {},
     "output_type": "execute_result"
    }
   ],
   "source": [
    "m_tensor = torch.randn((5, 4, 4, 4))\n",
    "m_tensor[0].shape"
   ]
  },
  {
   "cell_type": "code",
   "execution_count": 26,
   "metadata": {},
   "outputs": [
    {
     "ename": "RuntimeError",
     "evalue": "invalid argument 0: Sizes of tensors must match except in dimension 1. Got 4 and 3 in dimension 0 at c:\\a\\w\\1\\s\\tmp_conda_3.6_104352\\conda\\conda-bld\\pytorch_1550400396997\\work\\aten\\src\\th\\generic/THTensorMoreMath.cpp:1307",
     "output_type": "error",
     "traceback": [
      "\u001b[1;31m---------------------------------------------------------------------------\u001b[0m",
      "\u001b[1;31mRuntimeError\u001b[0m                              Traceback (most recent call last)",
      "\u001b[1;32m<ipython-input-26-c109d485559f>\u001b[0m in \u001b[0;36m<module>\u001b[1;34m\u001b[0m\n\u001b[0;32m      1\u001b[0m \u001b[0mx\u001b[0m \u001b[1;33m=\u001b[0m \u001b[0mtorch\u001b[0m\u001b[1;33m.\u001b[0m\u001b[0mrandn\u001b[0m\u001b[1;33m(\u001b[0m\u001b[1;36m4\u001b[0m\u001b[1;33m,\u001b[0m \u001b[1;36m3\u001b[0m\u001b[1;33m)\u001b[0m\u001b[1;33m\u001b[0m\u001b[1;33m\u001b[0m\u001b[0m\n\u001b[0;32m      2\u001b[0m \u001b[0my\u001b[0m \u001b[1;33m=\u001b[0m \u001b[0mtorch\u001b[0m\u001b[1;33m.\u001b[0m\u001b[0mrandn\u001b[0m\u001b[1;33m(\u001b[0m\u001b[1;36m3\u001b[0m\u001b[1;33m,\u001b[0m \u001b[1;36m4\u001b[0m\u001b[1;33m)\u001b[0m\u001b[1;33m\u001b[0m\u001b[1;33m\u001b[0m\u001b[0m\n\u001b[1;32m----> 3\u001b[1;33m \u001b[0mz\u001b[0m \u001b[1;33m=\u001b[0m \u001b[0mtorch\u001b[0m\u001b[1;33m.\u001b[0m\u001b[0mcat\u001b[0m\u001b[1;33m(\u001b[0m\u001b[1;33m[\u001b[0m\u001b[0mx\u001b[0m\u001b[1;33m,\u001b[0m \u001b[0my\u001b[0m\u001b[1;33m]\u001b[0m\u001b[1;33m,\u001b[0m \u001b[1;36m1\u001b[0m\u001b[1;33m)\u001b[0m\u001b[1;33m\u001b[0m\u001b[1;33m\u001b[0m\u001b[0m\n\u001b[0m",
      "\u001b[1;31mRuntimeError\u001b[0m: invalid argument 0: Sizes of tensors must match except in dimension 1. Got 4 and 3 in dimension 0 at c:\\a\\w\\1\\s\\tmp_conda_3.6_104352\\conda\\conda-bld\\pytorch_1550400396997\\work\\aten\\src\\th\\generic/THTensorMoreMath.cpp:1307"
     ]
    }
   ],
   "source": [
    "x = torch.randn(4, 3)\n",
    "y = torch.randn(3, 4)\n",
    "z = torch.cat([x, y], 1)"
   ]
  },
  {
   "cell_type": "code",
   "execution_count": null,
   "metadata": {},
   "outputs": [],
   "source": []
  }
 ],
 "metadata": {
  "kernelspec": {
   "display_name": "Python 3",
   "language": "python",
   "name": "python3"
  },
  "language_info": {
   "codemirror_mode": {
    "name": "ipython",
    "version": 3
   },
   "file_extension": ".py",
   "mimetype": "text/x-python",
   "name": "python",
   "nbconvert_exporter": "python",
   "pygments_lexer": "ipython3",
   "version": "3.6.8"
  }
 },
 "nbformat": 4,
 "nbformat_minor": 2
}
