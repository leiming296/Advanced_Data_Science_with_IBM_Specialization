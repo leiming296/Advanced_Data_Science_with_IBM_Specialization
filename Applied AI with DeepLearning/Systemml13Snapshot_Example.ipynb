{
 "cells": [
  {
   "cell_type": "code",
   "execution_count": 1,
   "metadata": {},
   "outputs": [],
   "source": [
    "import findspark\n",
    "findspark.init()\n",
    "import pyspark \n",
    "from pyspark.sql import SparkSession"
   ]
  },
  {
   "cell_type": "code",
   "execution_count": 2,
   "metadata": {},
   "outputs": [
    {
     "name": "stdout",
     "output_type": "stream",
     "text": [
      "Name: systemml\n",
      "Version: 1.3.0\n",
      "Summary: Apache SystemML is a distributed and declarative machine learning platform.\n",
      "Home-page: http://systemml.apache.org/\n",
      "Author: Apache SystemML\n",
      "Author-email: dev@systemml.apache.org\n",
      "License: Apache 2.0\n",
      "Location: c:\\users\\user\\anaconda3\\envs\\tensorflow\\lib\\site-packages\n",
      "Requires: scikit-learn, numpy, scipy, Pillow, pandas\n",
      "Required-by: \n"
     ]
    }
   ],
   "source": [
    "!pip show systemml"
   ]
  },
  {
   "cell_type": "code",
   "execution_count": 3,
   "metadata": {},
   "outputs": [],
   "source": [
    "from pyspark.sql import *\n",
    "from pyspark import SparkContext\n",
    "from pyspark.streaming import StreamingContext\n",
    "sc  = SparkContext(\"local[6]\", \"systemml\") "
   ]
  },
  {
   "cell_type": "code",
   "execution_count": 4,
   "metadata": {},
   "outputs": [],
   "source": [
    "spark = SparkSession.builder \\\n",
    ".master('local')\\\n",
    ".appName('systemml_dl')\\\n",
    ".config('spark.excutor.memory','6gb')\\\n",
    ".getOrCreate()"
   ]
  },
  {
   "cell_type": "code",
   "execution_count": 5,
   "metadata": {},
   "outputs": [
    {
     "name": "stderr",
     "output_type": "stream",
     "text": [
      "C:\\Users\\User\\Anaconda3\\envs\\tensorflow\\lib\\importlib\\_bootstrap.py:222: RuntimeWarning: numpy.dtype size changed, may indicate binary incompatibility. Expected 96, got 88\n",
      "  return f(*args, **kwds)\n",
      "Using TensorFlow backend.\n"
     ]
    }
   ],
   "source": [
    "# Import dependencies\n",
    "from mlxtend.data import mnist_data\n",
    "import numpy as np\n",
    "from sklearn.utils import shuffle\n",
    "from keras.models import Sequential\n",
    "from keras.layers import Input, Dense, Conv2D, MaxPooling2D, Dropout,Flatten\n",
    "from keras import backend as K\n",
    "from keras.models import Model\n",
    "from keras.optimizers import SGD"
   ]
  },
  {
   "cell_type": "code",
   "execution_count": 6,
   "metadata": {},
   "outputs": [],
   "source": [
    "# Set channel first layer\n",
    "K.set_image_data_format('channels_first')"
   ]
  },
  {
   "cell_type": "code",
   "execution_count": 7,
   "metadata": {},
   "outputs": [],
   "source": [
    "# Download the MNIST dataset\n",
    "X, y = mnist_data()\n",
    "X, y = shuffle(X, y)"
   ]
  },
  {
   "cell_type": "code",
   "execution_count": 8,
   "metadata": {},
   "outputs": [],
   "source": [
    "# Split the data into training and test\n",
    "n_samples = len(X)\n",
    "X_train = X[:int(.9 * n_samples)]\n",
    "y_train = y[:int(.9 * n_samples)]\n",
    "X_test = X[int(.9 * n_samples):]\n",
    "y_test = y[int(.9 * n_samples):]"
   ]
  },
  {
   "cell_type": "code",
   "execution_count": 9,
   "metadata": {},
   "outputs": [
    {
     "name": "stdout",
     "output_type": "stream",
     "text": [
      "_________________________________________________________________\n",
      "Layer (type)                 Output Shape              Param #   \n",
      "=================================================================\n",
      "conv2d_1 (Conv2D)            (None, 32, 28, 28)        832       \n",
      "_________________________________________________________________\n",
      "max_pooling2d_1 (MaxPooling2 (None, 32, 14, 14)        0         \n",
      "_________________________________________________________________\n",
      "conv2d_2 (Conv2D)            (None, 64, 14, 14)        51264     \n",
      "_________________________________________________________________\n",
      "max_pooling2d_2 (MaxPooling2 (None, 64, 7, 7)          0         \n",
      "_________________________________________________________________\n",
      "flatten_1 (Flatten)          (None, 3136)              0         \n",
      "_________________________________________________________________\n",
      "dense_1 (Dense)              (None, 512)               1606144   \n",
      "_________________________________________________________________\n",
      "dropout_1 (Dropout)          (None, 512)               0         \n",
      "_________________________________________________________________\n",
      "dense_2 (Dense)              (None, 10)                5130      \n",
      "=================================================================\n",
      "Total params: 1,663,370\n",
      "Trainable params: 1,663,370\n",
      "Non-trainable params: 0\n",
      "_________________________________________________________________\n"
     ]
    }
   ],
   "source": [
    "# Define Lenet in Keras\n",
    "keras_model = Sequential()\n",
    "keras_model.add(Conv2D(32, kernel_size=(5, 5), activation='relu', input_shape=(1,28,28), padding='same'))\n",
    "keras_model.add(MaxPooling2D(pool_size=(2, 2)))\n",
    "keras_model.add(Conv2D(64, (5, 5), activation='relu', padding='same'))\n",
    "keras_model.add(MaxPooling2D(pool_size=(2, 2)))\n",
    "keras_model.add(Flatten())\n",
    "keras_model.add(Dense(512, activation='relu'))\n",
    "keras_model.add(Dropout(0.5))\n",
    "keras_model.add(Dense(10, activation='softmax'))\n",
    "keras_model.compile(loss='categorical_crossentropy', optimizer=SGD(lr=0.01, decay=1e-6, momentum=0.9, nesterov=True))\n",
    "keras_model.summary()"
   ]
  },
  {
   "cell_type": "code",
   "execution_count": 10,
   "metadata": {},
   "outputs": [],
   "source": [
    "# Scale the input features\n",
    "scale = 0.00390625\n",
    "X_train = X_train*scale\n",
    "X_test = X_test*scale"
   ]
  },
  {
   "cell_type": "code",
   "execution_count": 11,
   "metadata": {},
   "outputs": [
    {
     "name": "stderr",
     "output_type": "stream",
     "text": [
      "C:\\Users\\User\\Anaconda3\\envs\\tensorflow\\lib\\site-packages\\keras\\engine\\sequential.py:110: UserWarning: `Sequential.model` is deprecated. `Sequential` is a subclass of `Model`, you can just use your `Sequential` instance directly.\n",
      "  warnings.warn('`Sequential.model` is deprecated. '\n"
     ]
    },
    {
     "name": "stdout",
     "output_type": "stream",
     "text": [
      "Loading the model from weights_dir...\r\n",
      "SystemML Statistics:\n",
      "Total execution time:\t\t0.000 sec.\n",
      "Number of executed Spark inst:\t0.\n",
      "\r\n",
      "\n"
     ]
    }
   ],
   "source": [
    "# Train Lenet using SystemML\n",
    "from systemml.mllearn import Keras2DML\n",
    "sysml_model = Keras2DML(spark, keras_model, weights='weights_dir')"
   ]
  },
  {
   "cell_type": "code",
   "execution_count": 12,
   "metadata": {},
   "outputs": [
    {
     "name": "stdout",
     "output_type": "stream",
     "text": [
      "                                                                                \n",
      "+-------------------+---------------+--------------+------------+---------+-------------------+--------------------+--------------------+\n",
      "|               Name|           Type|        Output|      Weight|     Bias|                Top|              Bottom|Memory* (train/test)|\n",
      "+-------------------+---------------+--------------+------------+---------+-------------------+--------------------+--------------------+\n",
      "|     conv2d_1_input|           Data| (, 1, 28, 28)|            |         |     conv2d_1_input|                    |                 1/0|\n",
      "|           conv2d_1|    Convolution|(, 32, 28, 28)|   [32 X 25]| [32 X 1]|           conv2d_1|      conv2d_1_input|               25/13|\n",
      "|conv2d_1_activation|           ReLU|(, 32, 28, 28)|            |         |conv2d_1_activation|            conv2d_1|               37/25|\n",
      "|    max_pooling2d_1|        Pooling|(, 32, 14, 14)|            |         |    max_pooling2d_1| conv2d_1_activation|               18/15|\n",
      "|           conv2d_2|    Convolution|(, 64, 14, 14)|  [64 X 800]| [64 X 1]|           conv2d_2|     max_pooling2d_1|               41/10|\n",
      "|conv2d_2_activation|           ReLU|(, 64, 14, 14)|            |         |conv2d_2_activation|            conv2d_2|               18/12|\n",
      "|    max_pooling2d_2|        Pooling|  (, 64, 7, 7)|            |         |    max_pooling2d_2| conv2d_2_activation|                 9/8|\n",
      "|          flatten_1|        Flatten|(, 3136, 1, 1)|            |         |          flatten_1|     max_pooling2d_2|                 5/3|\n",
      "|            dense_1|   InnerProduct| (, 512, 1, 1)|[3136 X 512]|[1 X 512]|            dense_1|           flatten_1|              799/14|\n",
      "| dense_1_activation|           ReLU| (, 512, 1, 1)|            |         | dense_1_activation|             dense_1|                 1/1|\n",
      "|          dropout_1|        Dropout| (, 512, 1, 1)|            |         |          dropout_1|  dense_1_activation|                 1/1|\n",
      "|            dense_2|   InnerProduct|  (, 10, 1, 1)|  [512 X 10]| [1 X 10]|            dense_2|           dropout_1|                 3/0|\n",
      "|               loss|SoftmaxWithLoss|  (, 10, 1, 1)|            |         |               loss|dense_2,conv2d_1_...|                 0/0|\n",
      "+-------------------+---------------+--------------+------------+---------+-------------------+--------------------+--------------------+\n",
      "\n",
      "* => memory in megabytes assuming the parameters (input, output activations, weights and backpropagation errors) are in double precision and in dense format.\n",
      "\n"
     ]
    }
   ],
   "source": [
    "sysml_model.summary()"
   ]
  },
  {
   "cell_type": "code",
   "execution_count": null,
   "metadata": {},
   "outputs": [],
   "source": [
    "sysml_model.fit(X_train, y_train)\n"
   ]
  },
  {
   "cell_type": "code",
   "execution_count": null,
   "metadata": {},
   "outputs": [],
   "source": [
    "sysml_model.score(X_test, y_test)"
   ]
  }
 ],
 "metadata": {
  "kernelspec": {
   "display_name": "Python 3",
   "language": "python",
   "name": "python3"
  },
  "language_info": {
   "codemirror_mode": {
    "name": "ipython",
    "version": 3
   },
   "file_extension": ".py",
   "mimetype": "text/x-python",
   "name": "python",
   "nbconvert_exporter": "python",
   "pygments_lexer": "ipython3",
   "version": "3.5.6"
  }
 },
 "nbformat": 4,
 "nbformat_minor": 2
}
